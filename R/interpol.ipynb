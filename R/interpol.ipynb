{
 "cells": [
  {
   "cell_type": "markdown",
   "id": "5bfb0be7-e942-4c73-b9cd-a117390234b9",
   "metadata": {},
   "source": [
    "# Interpol in R"
   ]
  },
  {
   "cell_type": "code",
   "execution_count": 62,
   "id": "ad608485-967d-4fb5-894c-78ed9991d484",
   "metadata": {},
   "outputs": [],
   "source": [
    "library(matrixcalc)"
   ]
  },
  {
   "cell_type": "code",
   "execution_count": 121,
   "id": "e87c68f4-c02c-4e44-9e4b-7cdaac010204",
   "metadata": {},
   "outputs": [],
   "source": [
    "interpolate <- function(x_values, y_values, n, DEBUG) {\n",
    "    if (DEBUG) {\n",
    "        cat(\"[*] x values: {\", x_values, \"}\\n\")\n",
    "        cat(\"[*] y values: {\", y_values, \"}\\n\")\n",
    "        cat()\n",
    "    }\n",
    "\n",
    "    B <- matrix.inverse(vandermonde.matrix(x_values, n))\n",
    "    y_values <- matrix(y_values, n, 1)\n",
    "\n",
    "    result <- B %*% y_values\n",
    "\n",
    "    return (result)\n",
    "}"
   ]
  },
  {
   "cell_type": "markdown",
   "id": "1b31c13f-0baf-4d4b-bbed-b145b344e676",
   "metadata": {},
   "source": [
    "## Program Config"
   ]
  },
  {
   "cell_type": "code",
   "execution_count": 122,
   "id": "eb4a4379-bf95-4cf4-9f6a-8e9f123bcfbf",
   "metadata": {},
   "outputs": [
    {
     "name": "stdout",
     "output_type": "stream",
     "text": [
      "[*] Points:\n",
      "[*] ( 0 ,  3 )\n",
      "[*] ( 1 ,  6 )\n",
      "[*] ( 2 ,  13 )\n",
      "\n",
      "[*] x values: { 0 1 2 }\n",
      "[*] y values: { 3 6 13 }\n"
     ]
    }
   ],
   "source": [
    "INPUT_FILE  <- \"\"\n",
    "OUTPUT_FILE <- \"\"\n",
    "DEBUG       <- TRUE\n",
    "\n",
    "lines <- readLines(INPUT_FILE)\n",
    "\n",
    "n <- as.integer(lines[1]) + 1\n",
    "\n",
    "x_values <- c(rep(0, n))\n",
    "y_values <- c(rep(0, n))\n",
    "\n",
    "for (i in 2:(n + 1)) {\n",
    "    values <- as.numeric(strsplit(lines[i], \" \")[[1]])\n",
    "    x_values[i - 1] <- as.numeric(values[1])\n",
    "    y_values[i - 1] <- as.numeric(values[2])\n",
    "}\n",
    "\n",
    "if (DEBUG) {\n",
    "    cat(\"[*] Points:\\n\")\n",
    "\n",
    "    for (i in 1:n) {\n",
    "        cat(\"[*] (\", x_values[i], \", \", y_values[i], \")\\n\")\n",
    "    }\n",
    "\n",
    "    cat(\"\\n\")\n",
    "}\n",
    "\n",
    "result <- interpolate(x_values, y_values, n, DEBUG)\n",
    "\n",
    "write(result, OUTPUT_FILE)"
   ]
  },
  {
   "cell_type": "code",
   "execution_count": null,
   "id": "0d324e52-15ea-481c-81cc-dae7ea7bc503",
   "metadata": {},
   "outputs": [],
   "source": []
  }
 ],
 "metadata": {
  "kernelspec": {
   "display_name": "R",
   "language": "R",
   "name": "ir"
  },
  "language_info": {
   "codemirror_mode": "r",
   "file_extension": ".r",
   "mimetype": "text/x-r-source",
   "name": "R",
   "pygments_lexer": "r",
   "version": "4.3.1"
  }
 },
 "nbformat": 4,
 "nbformat_minor": 5
}
